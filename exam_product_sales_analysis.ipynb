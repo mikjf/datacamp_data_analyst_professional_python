{
 "cells": [
  {
   "cell_type": "markdown",
   "id": "03795315-6370-4749-bab6-e07fa6810e1a",
   "metadata": {},
   "source": [
    "# Sales strategy analysis for \"Pens and Printers\""
   ]
  },
  {
   "cell_type": "markdown",
   "id": "4ef9b758-4908-4133-8c69-e052c87d58a7",
   "metadata": {},
   "source": [
    "We are tasked with analyzing the effectiveness of three sales strategies used by \"Pens and Printers\" for their new stationery product line. By evaluating customer reach and revenue generation, our goal is to recommend the optimal sales approach to enhance future product launches."
   ]
  },
  {
   "cell_type": "markdown",
   "id": "2db58d1f-ef5e-4f13-a1e0-ef33e09bab24",
   "metadata": {},
   "source": [
    "## 1. Import packages"
   ]
  },
  {
   "cell_type": "code",
   "execution_count": 1,
   "id": "be0bb4d1-5ad6-4671-b7f5-739fc1bda151",
   "metadata": {},
   "outputs": [],
   "source": [
    "# import packages\n",
    "import matplotlib.pyplot as plt\n",
    "import numpy as np\n",
    "import pandas as pd\n",
    "import seaborn as sns\n",
    "import re\n",
    "from scipy import stats\n",
    "from datetime import datetime\n",
    "\n",
    "# render figures in notebook\n",
    "%matplotlib inline"
   ]
  },
  {
   "cell_type": "markdown",
   "id": "62436f53-bde0-4064-909d-87bf3541b2b9",
   "metadata": {},
   "source": [
    "## 2. Load dataset and data preview"
   ]
  },
  {
   "cell_type": "code",
   "execution_count": 2,
   "id": "bebc8df3-f352-4f68-b8a6-af05bd8a4877",
   "metadata": {},
   "outputs": [],
   "source": [
    "# load dataset\n",
    "data = pd.read_csv('product_sales.csv')"
   ]
  },
  {
   "cell_type": "code",
   "execution_count": 3,
   "id": "52805be7-5968-4a09-9a9f-40d33210f55f",
   "metadata": {
    "tags": []
   },
   "outputs": [
    {
     "data": {
      "text/html": [
       "<div>\n",
       "<style scoped>\n",
       "    .dataframe tbody tr th:only-of-type {\n",
       "        vertical-align: middle;\n",
       "    }\n",
       "\n",
       "    .dataframe tbody tr th {\n",
       "        vertical-align: top;\n",
       "    }\n",
       "\n",
       "    .dataframe thead th {\n",
       "        text-align: right;\n",
       "    }\n",
       "</style>\n",
       "<table border=\"1\" class=\"dataframe\">\n",
       "  <thead>\n",
       "    <tr style=\"text-align: right;\">\n",
       "      <th></th>\n",
       "      <th>week</th>\n",
       "      <th>sales_method</th>\n",
       "      <th>customer_id</th>\n",
       "      <th>nb_sold</th>\n",
       "      <th>revenue</th>\n",
       "      <th>years_as_customer</th>\n",
       "      <th>nb_site_visits</th>\n",
       "      <th>state</th>\n",
       "    </tr>\n",
       "  </thead>\n",
       "  <tbody>\n",
       "    <tr>\n",
       "      <th>0</th>\n",
       "      <td>2</td>\n",
       "      <td>Email</td>\n",
       "      <td>2e72d641-95ac-497b-bbf8-4861764a7097</td>\n",
       "      <td>10</td>\n",
       "      <td>NaN</td>\n",
       "      <td>0</td>\n",
       "      <td>24</td>\n",
       "      <td>Arizona</td>\n",
       "    </tr>\n",
       "    <tr>\n",
       "      <th>1</th>\n",
       "      <td>6</td>\n",
       "      <td>Email + Call</td>\n",
       "      <td>3998a98d-70f5-44f7-942e-789bb8ad2fe7</td>\n",
       "      <td>15</td>\n",
       "      <td>225.47</td>\n",
       "      <td>1</td>\n",
       "      <td>28</td>\n",
       "      <td>Kansas</td>\n",
       "    </tr>\n",
       "    <tr>\n",
       "      <th>2</th>\n",
       "      <td>5</td>\n",
       "      <td>Call</td>\n",
       "      <td>d1de9884-8059-4065-b10f-86eef57e4a44</td>\n",
       "      <td>11</td>\n",
       "      <td>52.55</td>\n",
       "      <td>6</td>\n",
       "      <td>26</td>\n",
       "      <td>Wisconsin</td>\n",
       "    </tr>\n",
       "    <tr>\n",
       "      <th>3</th>\n",
       "      <td>4</td>\n",
       "      <td>Email</td>\n",
       "      <td>78aa75a4-ffeb-4817-b1d0-2f030783c5d7</td>\n",
       "      <td>11</td>\n",
       "      <td>NaN</td>\n",
       "      <td>3</td>\n",
       "      <td>25</td>\n",
       "      <td>Indiana</td>\n",
       "    </tr>\n",
       "    <tr>\n",
       "      <th>4</th>\n",
       "      <td>3</td>\n",
       "      <td>Email</td>\n",
       "      <td>10e6d446-10a5-42e5-8210-1b5438f70922</td>\n",
       "      <td>9</td>\n",
       "      <td>90.49</td>\n",
       "      <td>0</td>\n",
       "      <td>28</td>\n",
       "      <td>Illinois</td>\n",
       "    </tr>\n",
       "  </tbody>\n",
       "</table>\n",
       "</div>"
      ],
      "text/plain": [
       "   week  sales_method                           customer_id  nb_sold  revenue  \\\n",
       "0     2         Email  2e72d641-95ac-497b-bbf8-4861764a7097       10      NaN   \n",
       "1     6  Email + Call  3998a98d-70f5-44f7-942e-789bb8ad2fe7       15   225.47   \n",
       "2     5          Call  d1de9884-8059-4065-b10f-86eef57e4a44       11    52.55   \n",
       "3     4         Email  78aa75a4-ffeb-4817-b1d0-2f030783c5d7       11      NaN   \n",
       "4     3         Email  10e6d446-10a5-42e5-8210-1b5438f70922        9    90.49   \n",
       "\n",
       "   years_as_customer  nb_site_visits      state  \n",
       "0                  0              24    Arizona  \n",
       "1                  1              28     Kansas  \n",
       "2                  6              26  Wisconsin  \n",
       "3                  3              25    Indiana  \n",
       "4                  0              28   Illinois  "
      ]
     },
     "execution_count": 3,
     "metadata": {},
     "output_type": "execute_result"
    }
   ],
   "source": [
    "# preview first rows\n",
    "data.head()"
   ]
  },
  {
   "cell_type": "markdown",
   "id": "9064184f-4fcc-442f-af00-e4aabc443086",
   "metadata": {},
   "source": [
    "## 3. Initial basic EDA"
   ]
  },
  {
   "cell_type": "code",
   "execution_count": 4,
   "id": "bdd7e9b7-0616-4ae2-8de8-511472a4c9bd",
   "metadata": {},
   "outputs": [
    {
     "name": "stdout",
     "output_type": "stream",
     "text": [
      "<class 'pandas.core.frame.DataFrame'>\n",
      "RangeIndex: 15000 entries, 0 to 14999\n",
      "Data columns (total 8 columns):\n",
      " #   Column             Non-Null Count  Dtype  \n",
      "---  ------             --------------  -----  \n",
      " 0   week               15000 non-null  int64  \n",
      " 1   sales_method       15000 non-null  object \n",
      " 2   customer_id        15000 non-null  object \n",
      " 3   nb_sold            15000 non-null  int64  \n",
      " 4   revenue            13926 non-null  float64\n",
      " 5   years_as_customer  15000 non-null  int64  \n",
      " 6   nb_site_visits     15000 non-null  int64  \n",
      " 7   state              15000 non-null  object \n",
      "dtypes: float64(1), int64(4), object(3)\n",
      "memory usage: 937.6+ KB\n"
     ]
    }
   ],
   "source": [
    "# data types and missing values\n",
    "data.info()"
   ]
  },
  {
   "cell_type": "code",
   "execution_count": 5,
   "id": "e3d7ae44-571f-4d67-bca6-cde3f99f9bc1",
   "metadata": {},
   "outputs": [
    {
     "data": {
      "text/html": [
       "<div>\n",
       "<style scoped>\n",
       "    .dataframe tbody tr th:only-of-type {\n",
       "        vertical-align: middle;\n",
       "    }\n",
       "\n",
       "    .dataframe tbody tr th {\n",
       "        vertical-align: top;\n",
       "    }\n",
       "\n",
       "    .dataframe thead th {\n",
       "        text-align: right;\n",
       "    }\n",
       "</style>\n",
       "<table border=\"1\" class=\"dataframe\">\n",
       "  <thead>\n",
       "    <tr style=\"text-align: right;\">\n",
       "      <th></th>\n",
       "      <th>week</th>\n",
       "      <th>nb_sold</th>\n",
       "      <th>revenue</th>\n",
       "      <th>years_as_customer</th>\n",
       "      <th>nb_site_visits</th>\n",
       "    </tr>\n",
       "  </thead>\n",
       "  <tbody>\n",
       "    <tr>\n",
       "      <th>count</th>\n",
       "      <td>15000.000000</td>\n",
       "      <td>15000.000000</td>\n",
       "      <td>13926.000000</td>\n",
       "      <td>15000.000000</td>\n",
       "      <td>15000.000000</td>\n",
       "    </tr>\n",
       "    <tr>\n",
       "      <th>mean</th>\n",
       "      <td>3.098267</td>\n",
       "      <td>10.084667</td>\n",
       "      <td>93.934943</td>\n",
       "      <td>4.965933</td>\n",
       "      <td>24.990867</td>\n",
       "    </tr>\n",
       "    <tr>\n",
       "      <th>std</th>\n",
       "      <td>1.656420</td>\n",
       "      <td>1.812213</td>\n",
       "      <td>47.435312</td>\n",
       "      <td>5.044952</td>\n",
       "      <td>3.500914</td>\n",
       "    </tr>\n",
       "    <tr>\n",
       "      <th>min</th>\n",
       "      <td>1.000000</td>\n",
       "      <td>7.000000</td>\n",
       "      <td>32.540000</td>\n",
       "      <td>0.000000</td>\n",
       "      <td>12.000000</td>\n",
       "    </tr>\n",
       "    <tr>\n",
       "      <th>25%</th>\n",
       "      <td>2.000000</td>\n",
       "      <td>9.000000</td>\n",
       "      <td>52.470000</td>\n",
       "      <td>1.000000</td>\n",
       "      <td>23.000000</td>\n",
       "    </tr>\n",
       "    <tr>\n",
       "      <th>50%</th>\n",
       "      <td>3.000000</td>\n",
       "      <td>10.000000</td>\n",
       "      <td>89.500000</td>\n",
       "      <td>3.000000</td>\n",
       "      <td>25.000000</td>\n",
       "    </tr>\n",
       "    <tr>\n",
       "      <th>75%</th>\n",
       "      <td>5.000000</td>\n",
       "      <td>11.000000</td>\n",
       "      <td>107.327500</td>\n",
       "      <td>7.000000</td>\n",
       "      <td>27.000000</td>\n",
       "    </tr>\n",
       "    <tr>\n",
       "      <th>max</th>\n",
       "      <td>6.000000</td>\n",
       "      <td>16.000000</td>\n",
       "      <td>238.320000</td>\n",
       "      <td>63.000000</td>\n",
       "      <td>41.000000</td>\n",
       "    </tr>\n",
       "  </tbody>\n",
       "</table>\n",
       "</div>"
      ],
      "text/plain": [
       "               week       nb_sold       revenue  years_as_customer  \\\n",
       "count  15000.000000  15000.000000  13926.000000       15000.000000   \n",
       "mean       3.098267     10.084667     93.934943           4.965933   \n",
       "std        1.656420      1.812213     47.435312           5.044952   \n",
       "min        1.000000      7.000000     32.540000           0.000000   \n",
       "25%        2.000000      9.000000     52.470000           1.000000   \n",
       "50%        3.000000     10.000000     89.500000           3.000000   \n",
       "75%        5.000000     11.000000    107.327500           7.000000   \n",
       "max        6.000000     16.000000    238.320000          63.000000   \n",
       "\n",
       "       nb_site_visits  \n",
       "count    15000.000000  \n",
       "mean        24.990867  \n",
       "std          3.500914  \n",
       "min         12.000000  \n",
       "25%         23.000000  \n",
       "50%         25.000000  \n",
       "75%         27.000000  \n",
       "max         41.000000  "
      ]
     },
     "execution_count": 5,
     "metadata": {},
     "output_type": "execute_result"
    }
   ],
   "source": [
    "# basic statistics (numeric variables)\n",
    "data.describe()"
   ]
  },
  {
   "cell_type": "markdown",
   "id": "9c6080de-2c64-4493-8ee7-9042677661ee",
   "metadata": {},
   "source": [
    "From the initial basic EDA we know that:\n",
    "\n",
    "- the dataset has 15'000 entries\n",
    "- the dataset has 8 columns: 'week', 'sales_method', 'customer_id', 'nb_sold', 'revenue', 'years_as_customer', 'nb_site_visits' and 'state'\n",
    "- the dataset contains numeric and categorical variables\n",
    "- there are no negative values within the numeric variables\n",
    "- 'revenue' column has 1074 missing values"
   ]
  },
  {
   "cell_type": "markdown",
   "id": "a45e2c36-d5e0-424e-ab4e-306774f55201",
   "metadata": {},
   "source": [
    "## 4. Cleaning steps and data validation"
   ]
  },
  {
   "cell_type": "markdown",
   "id": "d41cb6e9-c249-40df-9b4c-471ba8e9620e",
   "metadata": {},
   "source": [
    "We are now ready to perform data wrangling and data validation according to the table information provided."
   ]
  },
  {
   "cell_type": "markdown",
   "id": "4f120988-4377-49a1-a2ba-ec7858477f69",
   "metadata": {},
   "source": [
    "### 4.1 Dataset overview"
   ]
  },
  {
   "cell_type": "markdown",
   "id": "b30539ed-2737-4194-9e71-bb433841c54d",
   "metadata": {},
   "source": [
    "#### 4.1.1 Data types"
   ]
  },
  {
   "cell_type": "code",
   "execution_count": 6,
   "id": "2b074789-d02f-4cd8-8d8d-d955533acb5a",
   "metadata": {},
   "outputs": [],
   "source": [
    "# actual dtypes\n",
    "actual_dtypes = data.dtypes\n",
    "\n",
    "# expected dtypes\n",
    "expected_dtypes = {\n",
    "    'week': 'int64',\n",
    "    'sales_method': 'object', # 'character' type corresponds to 'object' dtype in pandas\n",
    "    'customer_id': 'object',\n",
    "    'nb_sold': 'int64',\n",
    "    'revenue': 'float64', # requires 2 decimals which makes 'numeric' a 'float' dtype\n",
    "    'years_as_customer': 'int64',\n",
    "    'nb_site_visits': 'int64',\n",
    "    'state': 'object'\n",
    "}\n",
    "\n",
    "# check actual vs expected dtypes\n",
    "dtype_check = actual_dtypes == pd.Series(expected_dtypes)"
   ]
  },
  {
   "cell_type": "code",
   "execution_count": 7,
   "id": "c468c139-9b84-40bd-91af-7855e02daf7c",
   "metadata": {},
   "outputs": [
    {
     "name": "stdout",
     "output_type": "stream",
     "text": [
      "              column actual_dtype  check\n",
      "0               week        int64   True\n",
      "1       sales_method       object   True\n",
      "2        customer_id       object   True\n",
      "3            nb_sold        int64   True\n",
      "4            revenue      float64   True\n",
      "5  years_as_customer        int64   True\n",
      "6     nb_site_visits        int64   True\n",
      "7              state       object   True\n"
     ]
    }
   ],
   "source": [
    "# dtype check dataframe\n",
    "dtype_df = pd.DataFrame({\n",
    "    'column': actual_dtypes.index,\n",
    "    'actual_dtype': actual_dtypes.values,\n",
    "    'check': dtype_check.values\n",
    "})\n",
    "\n",
    "print(dtype_df)"
   ]
  },
  {
   "cell_type": "markdown",
   "id": "f244b866-f856-45ad-b041-2524177d69c2",
   "metadata": {},
   "source": [
    "**Data types overview:**\n",
    "\n",
    "- The data types are as expected when compared to the data validation requirements."
   ]
  },
  {
   "cell_type": "markdown",
   "id": "a4f459a9-e2ec-4ca1-a004-dc6ee2e16476",
   "metadata": {},
   "source": [
    "#### 4.1.2 Missing values"
   ]
  },
  {
   "cell_type": "code",
   "execution_count": 8,
   "id": "18b22677-0843-441f-8d77-5e73427e8b1e",
   "metadata": {},
   "outputs": [
    {
     "data": {
      "text/plain": [
       "week                    0\n",
       "sales_method            0\n",
       "customer_id             0\n",
       "nb_sold                 0\n",
       "revenue              1074\n",
       "years_as_customer       0\n",
       "nb_site_visits          0\n",
       "state                   0\n",
       "dtype: int64"
      ]
     },
     "execution_count": 8,
     "metadata": {},
     "output_type": "execute_result"
    }
   ],
   "source": [
    "# check (already known from step 3.) for missing values\n",
    "missing_values = data.isnull().sum()\n",
    "missing_values"
   ]
  },
  {
   "cell_type": "markdown",
   "id": "0a88a1f9-104f-461b-84bc-72e1bf65f506",
   "metadata": {},
   "source": [
    "**Missing values overview:**\n",
    "- The check for missing values confirms that there are no missing values except for the 'revenue' column, which has 1074 missing entries"
   ]
  },
  {
   "cell_type": "markdown",
   "id": "575785ef-8f92-4640-9e36-f8b026bb43b2",
   "metadata": {},
   "source": [
    "### 4.2 'week'"
   ]
  },
  {
   "cell_type": "code",
   "execution_count": 9,
   "id": "17578686-52df-43ea-8c7a-2b2252d60836",
   "metadata": {},
   "outputs": [
    {
     "data": {
      "text/plain": [
       "dtype('int64')"
      ]
     },
     "execution_count": 9,
     "metadata": {},
     "output_type": "execute_result"
    }
   ],
   "source": [
    "# check dtype\n",
    "week_data_type = data['week'].dtype\n",
    "week_data_type"
   ]
  },
  {
   "cell_type": "code",
   "execution_count": 10,
   "id": "dd6f3ccc-b8ab-4c8e-9eaf-dcef83bb254d",
   "metadata": {},
   "outputs": [
    {
     "data": {
      "text/plain": [
       "0"
      ]
     },
     "execution_count": 10,
     "metadata": {},
     "output_type": "execute_result"
    }
   ],
   "source": [
    "# check missing values\n",
    "week_missing_values = data['week'].isnull().sum()\n",
    "week_missing_values"
   ]
  },
  {
   "cell_type": "code",
   "execution_count": 11,
   "id": "7094d36c-c139-4d24-bcb9-8caf2f9117a7",
   "metadata": {},
   "outputs": [
    {
     "data": {
      "text/plain": [
       "True"
      ]
     },
     "execution_count": 11,
     "metadata": {},
     "output_type": "execute_result"
    }
   ],
   "source": [
    "# check if the range of week column values is within 1-6 weeks (new product line launched 6 weeks ago)\n",
    "week_range_valid = data['week'].between(1, 6).all()\n",
    "week_range_valid"
   ]
  },
  {
   "cell_type": "markdown",
   "id": "a95966a2-f02f-4b0a-9328-a2147e4906eb",
   "metadata": {},
   "source": [
    "**Validation results for 'week' column:**\n",
    "\n",
    "- The data type of the column 'week' is 'int64', which is appropriate for week numbers\n",
    "- There are no missing values in this column\n",
    "- All values are within the valid range of 1 to 6 (six weeks period since new product line launch)"
   ]
  },
  {
   "cell_type": "markdown",
   "id": "ccf452ba-6588-4d18-bdca-52a35e085cdb",
   "metadata": {},
   "source": [
    "### 4.3 'sales_method'"
   ]
  },
  {
   "cell_type": "code",
   "execution_count": 12,
   "id": "3e82419a-72d0-4740-ab52-fc09b56444e5",
   "metadata": {},
   "outputs": [
    {
     "data": {
      "text/plain": [
       "dtype('O')"
      ]
     },
     "execution_count": 12,
     "metadata": {},
     "output_type": "execute_result"
    }
   ],
   "source": [
    "# check dtype\n",
    "sales_method_data_type = data['sales_method'].dtype\n",
    "sales_method_data_type"
   ]
  },
  {
   "cell_type": "code",
   "execution_count": 13,
   "id": "1a4cb481-ec83-4800-9360-879e39f971ad",
   "metadata": {},
   "outputs": [
    {
     "data": {
      "text/plain": [
       "0"
      ]
     },
     "execution_count": 13,
     "metadata": {},
     "output_type": "execute_result"
    }
   ],
   "source": [
    "# check missing values\n",
    "sales_method_missing_values = data['sales_method'].isnull().sum()\n",
    "sales_method_missing_values"
   ]
  },
  {
   "cell_type": "code",
   "execution_count": 14,
   "id": "0d143755-2cfb-4a99-9ee5-5552e1fc1263",
   "metadata": {},
   "outputs": [
    {
     "data": {
      "text/plain": [
       "False"
      ]
     },
     "execution_count": 14,
     "metadata": {},
     "output_type": "execute_result"
    }
   ],
   "source": [
    "# check if column values match the expected categories\n",
    "expected_methods = ['Email', 'Call', 'Email and call']\n",
    "sales_method_values_valid = data['sales_method'].isin(expected_methods).all()\n",
    "sales_method_values_valid"
   ]
  },
  {
   "cell_type": "markdown",
   "id": "cbbeb3bd-5dd6-4e93-bbff-2dada5c768c7",
   "metadata": {},
   "source": [
    "Not all values in the column match the expected categories ('Email', 'Call' and 'Email and call'). Let's find all distinct entries that are not expected."
   ]
  },
  {
   "cell_type": "code",
   "execution_count": 15,
   "id": "fcd0f67d-e715-404a-ac0e-36999ff6c1d0",
   "metadata": {},
   "outputs": [
    {
     "data": {
      "text/plain": [
       "array(['Email + Call', 'em + call', 'email'], dtype=object)"
      ]
     },
     "execution_count": 15,
     "metadata": {},
     "output_type": "execute_result"
    }
   ],
   "source": [
    "# identify unexpected values not included in expected_methods\n",
    "unexpected_sales_methods = data[~data['sales_method'].isin(expected_methods)]['sales_method'].unique()\n",
    "unexpected_sales_methods"
   ]
  },
  {
   "cell_type": "markdown",
   "id": "d17ea089-7e85-4141-bef3-943b2fbb2d5a",
   "metadata": {},
   "source": [
    "There are variations and/or typos of the expected categories. We can clean the data by mapping the unexpected sales methods to the correct expected categories."
   ]
  },
  {
   "cell_type": "code",
   "execution_count": 16,
   "id": "f13d3aa2-4861-4f3e-80cd-a3982caa2d09",
   "metadata": {},
   "outputs": [
    {
     "data": {
      "text/plain": [
       "array(['Email', 'Email and call', 'Call'], dtype=object)"
      ]
     },
     "execution_count": 16,
     "metadata": {},
     "output_type": "execute_result"
    }
   ],
   "source": [
    "# correct entries included in the unexpected sales methods to the expected categories\n",
    "sales_method_corrections = {\n",
    "    'Email + Call': 'Email and call',\n",
    "    'em + call': 'Email and call',\n",
    "    'email': 'Email'\n",
    "}\n",
    "\n",
    "# replace unexpected values with the expected category values\n",
    "data['sales_method'].replace(sales_method_corrections, inplace=True)\n",
    "\n",
    "# verify correction by checking unique values again\n",
    "corrected_sales_methods = data['sales_method'].unique()\n",
    "corrected_sales_methods"
   ]
  },
  {
   "cell_type": "markdown",
   "id": "987e3eb1-b91b-4377-81ea-3c411879f164",
   "metadata": {},
   "source": [
    "**Validation results for 'sales_method' columns:**\n",
    "\n",
    "- The data type is 'object' (denoted as 'O'), which is suitable for categorical data\n",
    "- There are no missing values in this column\n",
    "- All variations have now been standardized to the expected categories: 'Email', 'Email and call' and 'Call'"
   ]
  },
  {
   "cell_type": "markdown",
   "id": "18e8385b-9d30-44a3-9e91-89b2ad13a422",
   "metadata": {},
   "source": [
    "### 4.4 'customer_id'"
   ]
  },
  {
   "cell_type": "code",
   "execution_count": 17,
   "id": "652eec64-d48b-4d30-a847-fbdc0be2f675",
   "metadata": {},
   "outputs": [
    {
     "data": {
      "text/plain": [
       "dtype('O')"
      ]
     },
     "execution_count": 17,
     "metadata": {},
     "output_type": "execute_result"
    }
   ],
   "source": [
    "# check dtype\n",
    "customer_id_data_type = data['customer_id'].dtype\n",
    "customer_id_data_type"
   ]
  },
  {
   "cell_type": "code",
   "execution_count": 18,
   "id": "fb15f2e8-de98-4bb3-b38a-fb187399db9b",
   "metadata": {},
   "outputs": [
    {
     "data": {
      "text/plain": [
       "0"
      ]
     },
     "execution_count": 18,
     "metadata": {},
     "output_type": "execute_result"
    }
   ],
   "source": [
    "# check missing values\n",
    "customer_id_missing_values = data['customer_id'].isnull().sum()\n",
    "customer_id_missing_values"
   ]
  },
  {
   "cell_type": "code",
   "execution_count": 19,
   "id": "500186b3-450c-497c-af2d-967d1794d9b0",
   "metadata": {},
   "outputs": [
    {
     "data": {
      "text/plain": [
       "(15000, True)"
      ]
     },
     "execution_count": 19,
     "metadata": {},
     "output_type": "execute_result"
    }
   ],
   "source": [
    "# check customer_id uniqueness (15000 unique entries)\n",
    "unique_customer_ids = data['customer_id'].nunique()\n",
    "\n",
    "# get total number of entries from shape\n",
    "total_entries = data.shape[0]\n",
    "\n",
    "# check if the number of unique_customer_ids equals the total number of entries\n",
    "customer_id_uniqueness = unique_customer_ids == total_entries\n",
    "\n",
    "unique_customer_ids, customer_id_uniqueness"
   ]
  },
  {
   "cell_type": "markdown",
   "id": "ad57bd38-f5f8-4512-95a5-cdd0661edb66",
   "metadata": {},
   "source": [
    "We can also check whether all entries are strings of length 36 and if the UUID format is always the same."
   ]
  },
  {
   "cell_type": "code",
   "execution_count": 20,
   "id": "bd26bb4e-7166-4b27-9065-dfce9b0d725f",
   "metadata": {},
   "outputs": [
    {
     "data": {
      "text/plain": [
       "(True, True, True)"
      ]
     },
     "execution_count": 20,
     "metadata": {},
     "output_type": "execute_result"
    }
   ],
   "source": [
    "# define regular expression pattern for validating UUID format\n",
    "uuid_pattern = re.compile(r'^[a-fA-F0-9]{8}-[a-fA-F0-9]{4}-[a-fA-F0-9]{4}-[a-fA-F0-9]{4}-[a-fA-F0-9]{12}$')\n",
    "\n",
    "# check if all customer_id entries are strings\n",
    "all_strings = data['customer_id'].apply(lambda x: isinstance(x, str)).all()\n",
    "\n",
    "# check if all customer_id entries have length of 36\n",
    "correct_length = data['customer_id'].apply(lambda x: len(x) == 36).all()\n",
    "\n",
    "# check if all customer_id entries match the UUID pattern\n",
    "matches_uuid_pattern = data['customer_id'].str.match(uuid_pattern).all()\n",
    "\n",
    "all_strings, correct_length, matches_uuid_pattern"
   ]
  },
  {
   "cell_type": "markdown",
   "id": "83e4e084-3e08-44ea-bb81-bb1d4a581a35",
   "metadata": {},
   "source": [
    "**Validation results for 'customer_id' column:**\n",
    "\n",
    "- The data type is 'object' ('O') and is appropriate for unique alphanumeric identifiers with hyphens\n",
    "- There are no missing values in this column\n",
    "- All 'customer_id' entries are strings with length of 36 and match the UUID pattern\n",
    "- Each 'customer_id' is unique and the number of unique ids, 15000, matches the total number of entries in the dataset"
   ]
  },
  {
   "cell_type": "markdown",
   "id": "94534258-9a75-4fd3-a0f9-a035853d2b71",
   "metadata": {},
   "source": [
    "### 4.4 'nb_sold'"
   ]
  },
  {
   "cell_type": "code",
   "execution_count": 21,
   "id": "0f132fc4-0859-4b9e-a5c8-13d97aefc1a1",
   "metadata": {},
   "outputs": [
    {
     "data": {
      "text/plain": [
       "dtype('int64')"
      ]
     },
     "execution_count": 21,
     "metadata": {},
     "output_type": "execute_result"
    }
   ],
   "source": [
    "# check dtype\n",
    "nb_sold_data_type = data['nb_sold'].dtype\n",
    "nb_sold_data_type"
   ]
  },
  {
   "cell_type": "code",
   "execution_count": 22,
   "id": "c589a577-b605-4c46-a990-02fee26331e9",
   "metadata": {},
   "outputs": [
    {
     "data": {
      "text/plain": [
       "0"
      ]
     },
     "execution_count": 22,
     "metadata": {},
     "output_type": "execute_result"
    }
   ],
   "source": [
    "# check missing values\n",
    "nb_sold_missing_values = data['nb_sold'].isnull().sum()\n",
    "nb_sold_missing_values"
   ]
  },
  {
   "cell_type": "code",
   "execution_count": 23,
   "id": "36389a65-33f7-4c20-8dd5-9bc4691b04bb",
   "metadata": {},
   "outputs": [
    {
     "data": {
      "text/plain": [
       "True"
      ]
     },
     "execution_count": 23,
     "metadata": {},
     "output_type": "execute_result"
    }
   ],
   "source": [
    "# check for non-negative values\n",
    "nb_sold_non_negative = (data['nb_sold'] >= 0).all()\n",
    "nb_sold_non_negative"
   ]
  },
  {
   "cell_type": "markdown",
   "id": "a7390d6f-e533-42f6-a4a3-f4ad8e68619b",
   "metadata": {},
   "source": [
    "**Validation results for 'nb_sold' column:**\n",
    "\n",
    "- The data type is 'int64', which is correct for integer quantities of sold items\n",
    "- There are no missing values in this column\n",
    "- All values are non-negative, which is expected for a sales count\n",
    "- The values in the column range from 7 (min) to 16 (max), which is plausible (3. Initial basic EDA)"
   ]
  },
  {
   "cell_type": "markdown",
   "id": "7b1a2abb-ed90-49a3-ab76-f09d1113720e",
   "metadata": {},
   "source": [
    "### 4.5 'revenue'"
   ]
  },
  {
   "cell_type": "code",
   "execution_count": 24,
   "id": "3d4f0e78-1c1c-4a49-8db3-322333e615d3",
   "metadata": {},
   "outputs": [
    {
     "data": {
      "text/plain": [
       "dtype('float64')"
      ]
     },
     "execution_count": 24,
     "metadata": {},
     "output_type": "execute_result"
    }
   ],
   "source": [
    "# check dtype\n",
    "revenue_data_type = data['revenue'].dtype\n",
    "revenue_data_type"
   ]
  },
  {
   "cell_type": "code",
   "execution_count": 25,
   "id": "d39d4535-ac03-4633-93e1-6909d4e27945",
   "metadata": {},
   "outputs": [
    {
     "data": {
      "text/plain": [
       "1074"
      ]
     },
     "execution_count": 25,
     "metadata": {},
     "output_type": "execute_result"
    }
   ],
   "source": [
    "# check missing values\n",
    "revenue_missing_values = data['revenue'].isnull().sum()\n",
    "revenue_missing_values"
   ]
  },
  {
   "cell_type": "code",
   "execution_count": 26,
   "id": "98bc50db-2936-4c92-875a-3bebe6872d35",
   "metadata": {},
   "outputs": [
    {
     "data": {
      "text/plain": [
       "True"
      ]
     },
     "execution_count": 26,
     "metadata": {},
     "output_type": "execute_result"
    }
   ],
   "source": [
    "# drop NaN values to consider actual numeric entries\n",
    "non_null_revenues = data['revenue'].dropna()\n",
    "\n",
    "# check for non-negative values within non-missing values\n",
    "revenue_non_negative = non_null_revenues.ge(0).all()\n",
    "revenue_non_negative"
   ]
  },
  {
   "cell_type": "code",
   "execution_count": 27,
   "id": "a73aafd6-28d9-45c5-8df6-46c239b0cb94",
   "metadata": {},
   "outputs": [
    {
     "data": {
      "text/plain": [
       "True"
      ]
     },
     "execution_count": 27,
     "metadata": {},
     "output_type": "execute_result"
    }
   ],
   "source": [
    "# check if all non-missing values are rounded to 2 decimal places\n",
    "revenue_round_check = (non_null_revenues == non_null_revenues.round(2)).all()\n",
    "revenue_round_check"
   ]
  },
  {
   "cell_type": "code",
   "execution_count": 28,
   "id": "da7fb6a4-d0b4-4512-9f6b-14e2ed49ce81",
   "metadata": {},
   "outputs": [
    {
     "data": {
      "text/plain": [
       "(32.54, 238.32)"
      ]
     },
     "execution_count": 28,
     "metadata": {},
     "output_type": "execute_result"
    }
   ],
   "source": [
    "# check min/max values\n",
    "revenue_min = data['revenue'].min()\n",
    "revenue_max = data['revenue'].max()\n",
    "\n",
    "revenue_min, revenue_max"
   ]
  },
  {
   "cell_type": "markdown",
   "id": "71f28c93-824b-4400-baa5-982cbfb48f92",
   "metadata": {},
   "source": [
    "**Validation results for 'revenue' column:**\n",
    "\n",
    "- The data type is 'float64', which is suitable for numerical vlaues with decimals\n",
    "- There are 1074 missing values (NaN) in this column\n",
    "- There are no negative values within non-missing values, as expected for revenue\n",
    "- All non-missing entries are rounded to 2 decimal places as expected\n",
    "- The values in the column range from 32.54 to 238.32, which is plausible (3. Initial basic EDA)"
   ]
  },
  {
   "cell_type": "markdown",
   "id": "5407fcdc-62e5-43a4-a1f1-a4fbfc04675e",
   "metadata": {},
   "source": [
    "**Handling missing values:**\n",
    "\n",
    "- We can decide how to handle the missing values depending on the analysis requirements\n",
    "- <span style=\"color:red\">Options would include, for example, imputation (i.e. mean/median/mod, regression or KNN), removal or leaving as they are</span>\n",
    "- Give the lack of clear information about the nature of the missing values and the importance of maintaining data accuracy in fniancial metrics, we'll leave the missing values as they are. This approach allows for an analysis that respects data integrity and provides a clear picture of the dataset's actual state"
   ]
  },
  {
   "cell_type": "markdown",
   "id": "10d0e57b-ac37-4a2d-b4b4-4d178f237588",
   "metadata": {},
   "source": [
    "### 4.6 'years_as_customer'"
   ]
  },
  {
   "cell_type": "code",
   "execution_count": 29,
   "id": "78185f57-c976-492a-b4c7-20f62ed895b6",
   "metadata": {},
   "outputs": [
    {
     "data": {
      "text/plain": [
       "dtype('int64')"
      ]
     },
     "execution_count": 29,
     "metadata": {},
     "output_type": "execute_result"
    }
   ],
   "source": [
    "# check data type\n",
    "years_as_customer_data_type = data['years_as_customer'].dtype\n",
    "years_as_customer_data_type"
   ]
  },
  {
   "cell_type": "code",
   "execution_count": 30,
   "id": "16b68710-2e6f-4489-adcd-da6714f5c15d",
   "metadata": {},
   "outputs": [
    {
     "data": {
      "text/plain": [
       "0"
      ]
     },
     "execution_count": 30,
     "metadata": {},
     "output_type": "execute_result"
    }
   ],
   "source": [
    "# check missing values\n",
    "years_as_customer_missing = data['years_as_customer'].isnull().sum()\n",
    "years_as_customer_missing"
   ]
  },
  {
   "cell_type": "code",
   "execution_count": 31,
   "id": "7adbedb6-c329-412b-a7be-aee1f0e95724",
   "metadata": {},
   "outputs": [
    {
     "data": {
      "text/plain": [
       "True"
      ]
     },
     "execution_count": 31,
     "metadata": {},
     "output_type": "execute_result"
    }
   ],
   "source": [
    "# check for non-negative values\n",
    "years_as_customer_non_negative = (data['nb_sold'] >= 0).all()\n",
    "years_as_customer_non_negative"
   ]
  },
  {
   "cell_type": "code",
   "execution_count": 32,
   "id": "7f1427c7-2ee1-43a0-9235-af1ffd1d0b6f",
   "metadata": {},
   "outputs": [
    {
     "data": {
      "text/plain": [
       "39"
      ]
     },
     "execution_count": 32,
     "metadata": {},
     "output_type": "execute_result"
    }
   ],
   "source": [
    "# check number of years since founding year\n",
    "current_year = datetime.now().year\n",
    "years_since_1984 = current_year - 1984\n",
    "\n",
    "years_since_1984"
   ]
  },
  {
   "cell_type": "code",
   "execution_count": 33,
   "id": "b9838ea4-baf7-4f26-af0e-5a1ee1f5ddd9",
   "metadata": {},
   "outputs": [
    {
     "data": {
      "text/plain": [
       "(0, 63)"
      ]
     },
     "execution_count": 33,
     "metadata": {},
     "output_type": "execute_result"
    }
   ],
   "source": [
    "# check values range for anomalies\n",
    "years_as_customer_min = data['years_as_customer'].min()\n",
    "years_as_customer_max = data['years_as_customer'].max()\n",
    "\n",
    "years_as_customer_min, years_as_customer_max"
   ]
  },
  {
   "cell_type": "markdown",
   "id": "f7cf850a-d3eb-4727-97de-342e0c14ce35",
   "metadata": {},
   "source": [
    "The maximum value for this column (63) is greater than the number of years since foundation (39). We need to identify the rows and decide how to approach this anomaly in the data."
   ]
  },
  {
   "cell_type": "code",
   "execution_count": 34,
   "id": "5c4aa243-ca6a-4acd-a7dc-108d62658fc7",
   "metadata": {},
   "outputs": [
    {
     "data": {
      "text/html": [
       "<div>\n",
       "<style scoped>\n",
       "    .dataframe tbody tr th:only-of-type {\n",
       "        vertical-align: middle;\n",
       "    }\n",
       "\n",
       "    .dataframe tbody tr th {\n",
       "        vertical-align: top;\n",
       "    }\n",
       "\n",
       "    .dataframe thead th {\n",
       "        text-align: right;\n",
       "    }\n",
       "</style>\n",
       "<table border=\"1\" class=\"dataframe\">\n",
       "  <thead>\n",
       "    <tr style=\"text-align: right;\">\n",
       "      <th></th>\n",
       "      <th>week</th>\n",
       "      <th>sales_method</th>\n",
       "      <th>customer_id</th>\n",
       "      <th>nb_sold</th>\n",
       "      <th>revenue</th>\n",
       "      <th>years_as_customer</th>\n",
       "      <th>nb_site_visits</th>\n",
       "      <th>state</th>\n",
       "    </tr>\n",
       "  </thead>\n",
       "  <tbody>\n",
       "    <tr>\n",
       "      <th>13741</th>\n",
       "      <td>2</td>\n",
       "      <td>Email</td>\n",
       "      <td>18919515-a618-430c-9a05-2c7d8fea96af</td>\n",
       "      <td>10</td>\n",
       "      <td>97.22</td>\n",
       "      <td>63</td>\n",
       "      <td>24</td>\n",
       "      <td>California</td>\n",
       "    </tr>\n",
       "    <tr>\n",
       "      <th>13800</th>\n",
       "      <td>4</td>\n",
       "      <td>Call</td>\n",
       "      <td>2ea97d34-571d-4e1b-95be-fea1c404649f</td>\n",
       "      <td>10</td>\n",
       "      <td>50.47</td>\n",
       "      <td>47</td>\n",
       "      <td>27</td>\n",
       "      <td>California</td>\n",
       "    </tr>\n",
       "  </tbody>\n",
       "</table>\n",
       "</div>"
      ],
      "text/plain": [
       "       week sales_method                           customer_id  nb_sold  \\\n",
       "13741     2        Email  18919515-a618-430c-9a05-2c7d8fea96af       10   \n",
       "13800     4         Call  2ea97d34-571d-4e1b-95be-fea1c404649f       10   \n",
       "\n",
       "       revenue  years_as_customer  nb_site_visits       state  \n",
       "13741    97.22                 63              24  California  \n",
       "13800    50.47                 47              27  California  "
      ]
     },
     "execution_count": 34,
     "metadata": {},
     "output_type": "execute_result"
    }
   ],
   "source": [
    "# find rows presenting entries greater than maximum allowed\n",
    "invalid_years_as_customer = data[data['years_as_customer'] > years_since_1984]\n",
    "invalid_years_as_customer"
   ]
  },
  {
   "cell_type": "markdown",
   "id": "814fb8cb-6853-4809-bc36-e42012fb27e3",
   "metadata": {},
   "source": [
    "There are two entries within the column that need to be addressed. Based on the balance between data integrity and practicality, we need to make sure that values for the column are capped to 39. To preserve the overall distribution and trends within the data, we assume that the most likely cause is a data entry error. The most practical approach, which also minimizes the data distortion when compared to other methods wuch as imputation, is to assign 39 to both entries, which is the cap. This method is easy to understand and justify in this analysis report."
   ]
  },
  {
   "cell_type": "code",
   "execution_count": 35,
   "id": "4a149a3c-8a69-4898-8111-f91cccd7a50c",
   "metadata": {},
   "outputs": [
    {
     "data": {
      "text/plain": [
       "(0, 39)"
      ]
     },
     "execution_count": 35,
     "metadata": {},
     "output_type": "execute_result"
    }
   ],
   "source": [
    "# cap values at 39 years\n",
    "data['years_as_customer'] = data['years_as_customer'].apply(lambda x: min(x, 39))\n",
    "\n",
    "# check range again after correction\n",
    "corrected_years_as_customer_min = data['years_as_customer'].min()\n",
    "corrected_years_as_customer_max = data['years_as_customer'].max()\n",
    "\n",
    "corrected_years_as_customer_min, corrected_years_as_customer_max"
   ]
  },
  {
   "cell_type": "markdown",
   "id": "d521b8dd-4475-4008-919a-5873251eb99a",
   "metadata": {},
   "source": [
    "**Validation results for 'years_as_customer' column:**\n",
    "\n",
    "- The data type is 'int64', which is correct and suitable for years\n",
    "- There are no negative and no missing values in this column\n",
    "- The range, after addressing the anomalies (capping), is from 0 to 39 years, where the value 0 represents a new customer\n",
    "- No customer relationship is indicated as longer than the company's existence, as expected"
   ]
  },
  {
   "cell_type": "markdown",
   "id": "f76330df-ae79-411b-9c7d-3476f615a426",
   "metadata": {},
   "source": [
    "### 4.7 'nb_site_visits'"
   ]
  },
  {
   "cell_type": "code",
   "execution_count": 36,
   "id": "0d068cad-d4e3-46c7-ab8d-17a2c768c809",
   "metadata": {},
   "outputs": [
    {
     "data": {
      "text/plain": [
       "dtype('int64')"
      ]
     },
     "execution_count": 36,
     "metadata": {},
     "output_type": "execute_result"
    }
   ],
   "source": [
    "# check data type\n",
    "nb_site_visits_data_type = data['nb_site_visits'].dtype\n",
    "nb_site_visits_data_type"
   ]
  },
  {
   "cell_type": "code",
   "execution_count": 37,
   "id": "1682b1de-2740-413e-89e8-d7e4155f9e96",
   "metadata": {},
   "outputs": [
    {
     "data": {
      "text/plain": [
       "0"
      ]
     },
     "execution_count": 37,
     "metadata": {},
     "output_type": "execute_result"
    }
   ],
   "source": [
    "# check missing values\n",
    "nb_site_visits_missing_values = data['nb_site_visits'].isnull().sum()\n",
    "nb_site_visits_missing_values"
   ]
  },
  {
   "cell_type": "code",
   "execution_count": 38,
   "id": "f0678681-eae0-4543-82b0-c4af463d7d75",
   "metadata": {},
   "outputs": [
    {
     "data": {
      "text/plain": [
       "(12, 41)"
      ]
     },
     "execution_count": 38,
     "metadata": {},
     "output_type": "execute_result"
    }
   ],
   "source": [
    "# check values range and anomalies\n",
    "nb_site_visits_min = data['nb_site_visits'].min()\n",
    "nb_site_visits_max = data['nb_site_visits'].max()\n",
    "\n",
    "nb_site_visits_min, nb_site_visits_max"
   ]
  },
  {
   "cell_type": "markdown",
   "id": "29872bd2-8cb2-4fc2-902a-0f73485cc032",
   "metadata": {},
   "source": [
    "**Validation results for 'nb_site_visits' column:**\n",
    "\n",
    "- The data type is 'int64', which is appropriate for representing counts like website visits\n",
    "- There are no negative and no missing values in this column\n",
    "- The range is from 12 to 41 visits, which seems truthful and does not suggest any obvious anomalies or outliers"
   ]
  },
  {
   "cell_type": "markdown",
   "id": "a5d4da51-1b66-4ff5-ae69-f2c5a0f685e4",
   "metadata": {},
   "source": [
    "### 4.8 'state'"
   ]
  },
  {
   "cell_type": "code",
   "execution_count": 39,
   "id": "860cdd2e-11ed-475b-830d-be03fca69d2b",
   "metadata": {},
   "outputs": [
    {
     "data": {
      "text/plain": [
       "dtype('O')"
      ]
     },
     "execution_count": 39,
     "metadata": {},
     "output_type": "execute_result"
    }
   ],
   "source": [
    "# check data type\n",
    "state_data_type = data['state'].dtype\n",
    "state_data_type"
   ]
  },
  {
   "cell_type": "code",
   "execution_count": 40,
   "id": "62f50b1f-30c6-4542-98dd-60616806ece9",
   "metadata": {},
   "outputs": [
    {
     "data": {
      "text/plain": [
       "0"
      ]
     },
     "execution_count": 40,
     "metadata": {},
     "output_type": "execute_result"
    }
   ],
   "source": [
    "# check missing values\n",
    "state_missing_values = data['state'].isnull().sum()\n",
    "state_missing_values"
   ]
  },
  {
   "cell_type": "code",
   "execution_count": 41,
   "id": "4b9135fb-aff9-478c-9a28-f971d20b8575",
   "metadata": {},
   "outputs": [
    {
     "data": {
      "text/plain": [
       "50"
      ]
     },
     "execution_count": 41,
     "metadata": {},
     "output_type": "execute_result"
    }
   ],
   "source": [
    "# check number of unique values\n",
    "state_number_unique_values = data['state'].nunique()\n",
    "state_number_unique_values"
   ]
  },
  {
   "cell_type": "code",
   "execution_count": 42,
   "id": "6303b8d2-150c-4a59-90b6-7a9f51128ffc",
   "metadata": {},
   "outputs": [
    {
     "data": {
      "text/plain": [
       "array(['Arizona', 'Kansas', 'Wisconsin', 'Indiana', 'Illinois',\n",
       "       'Mississippi', 'Georgia', 'Oklahoma', 'Massachusetts', 'Missouri',\n",
       "       'Texas', 'New York', 'Maryland', 'California', 'Tennessee',\n",
       "       'Pennsylvania', 'North Dakota', 'Florida', 'Michigan',\n",
       "       'North Carolina', 'Hawaii', 'Colorado', 'Louisiana', 'Virginia',\n",
       "       'New Mexico', 'Arkansas', 'Alaska', 'Oregon', 'New Hampshire',\n",
       "       'Ohio', 'New Jersey', 'Connecticut', 'Iowa', 'Montana',\n",
       "       'Washington', 'Kentucky', 'Alabama', 'Nebraska', 'South Carolina',\n",
       "       'Minnesota', 'South Dakota', 'Delaware', 'Maine', 'Utah',\n",
       "       'West Virginia', 'Vermont', 'Rhode Island', 'Nevada', 'Idaho',\n",
       "       'Wyoming'], dtype=object)"
      ]
     },
     "execution_count": 42,
     "metadata": {},
     "output_type": "execute_result"
    }
   ],
   "source": [
    "# check unique values\n",
    "state_unique_values = data['state'].unique()\n",
    "state_unique_values"
   ]
  },
  {
   "cell_type": "markdown",
   "id": "6e5683a4-6bba-45a0-a31c-8b96430a711f",
   "metadata": {},
   "source": [
    "We can check if there have been sales in all 50 US states."
   ]
  },
  {
   "cell_type": "code",
   "execution_count": 43,
   "id": "2104f1f1-7825-487b-a91e-341dad62836d",
   "metadata": {},
   "outputs": [
    {
     "data": {
      "text/plain": [
       "(True, [])"
      ]
     },
     "execution_count": 43,
     "metadata": {},
     "output_type": "execute_result"
    }
   ],
   "source": [
    "# list of US states\n",
    "us_states = [\"Alabama\", \"Alaska\", \"Arizona\", \"Arkansas\", \"California\", \"Colorado\", \"Connecticut\", \"Delaware\", \n",
    "             \"Florida\", \"Georgia\", \"Hawaii\", \"Idaho\", \"Illinois\", \"Indiana\", \"Iowa\", \"Kansas\", \"Kentucky\", \n",
    "             \"Louisiana\", \"Maine\", \"Maryland\", \"Massachusetts\", \"Michigan\", \"Minnesota\", \"Mississippi\", \"Missouri\", \n",
    "             \"Montana\", \"Nebraska\", \"Nevada\", \"New Hampshire\", \"New Jersey\", \"New Mexico\", \"New York\", \"North Carolina\", \n",
    "             \"North Dakota\", \"Ohio\", \"Oklahoma\", \"Oregon\", \"Pennsylvania\", \"Rhode Island\", \"South Carolina\", \n",
    "             \"South Dakota\", \"Tennessee\", \"Texas\", \"Utah\", \"Vermont\", \"Virginia\", \"Washington\", \"West Virginia\", \n",
    "             \"Wisconsin\", \"Wyoming\"]\n",
    "\n",
    "# standardize state names for comparison list\n",
    "data_states_upper = data['state'].str.upper().unique()\n",
    "us_states_upper = [state.upper() for state in us_states]\n",
    "\n",
    "# check if all state entries in the column are in the list\n",
    "consistent_format = all(state in us_states_upper for state in data_states_upper)\n",
    "\n",
    "# check if there are state entries that are not in the list, if yes display them in a list\n",
    "states_not_in_list = [state for state in data_states_upper if state not in us_states_upper]\n",
    "\n",
    "consistent_format, states_not_in_list"
   ]
  },
  {
   "cell_type": "markdown",
   "id": "fd18e02b-d58a-4ff1-ab58-5f549973c598",
   "metadata": {},
   "source": [
    "**Validation for 'state' column:**\n",
    "\n",
    "- The data type is 'object' ('O'), which is the correct format for textual data like state names\n",
    "- There are no missing values in this column\n",
    "- The format of the entries is consistent\n",
    "- There are 50 unique values, no indications of misspellings or inconsistencies"
   ]
  },
  {
   "cell_type": "markdown",
   "id": "897cc0eb-5fda-43e3-a14f-647be9ae733e",
   "metadata": {},
   "source": [
    "## 5. Exploratory data analysis"
   ]
  },
  {
   "cell_type": "code",
   "execution_count": null,
   "id": "5cb550fa-0655-4cad-afc2-13a46d980808",
   "metadata": {},
   "outputs": [],
   "source": []
  }
 ],
 "metadata": {
  "kernelspec": {
   "display_name": "projects",
   "language": "python",
   "name": "projects"
  },
  "language_info": {
   "codemirror_mode": {
    "name": "ipython",
    "version": 3
   },
   "file_extension": ".py",
   "mimetype": "text/x-python",
   "name": "python",
   "nbconvert_exporter": "python",
   "pygments_lexer": "ipython3",
   "version": "3.10.9"
  }
 },
 "nbformat": 4,
 "nbformat_minor": 5
}
